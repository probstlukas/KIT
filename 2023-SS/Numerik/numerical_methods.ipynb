{
 "cells": [
  {
   "cell_type": "code",
   "execution_count": 3,
   "metadata": {},
   "outputs": [
    {
     "name": "stdout",
     "output_type": "stream",
     "text": [
      "solution [0.28571429 0.42857143]\n",
      "test  [0. 0.]\n"
     ]
    },
    {
     "ename": "LinAlgError",
     "evalue": "singular matrix: resolution failed at diagonal 0",
     "output_type": "error",
     "traceback": [
      "\u001b[0;31m---------------------------------------------------------------------------\u001b[0m",
      "\u001b[0;31mLinAlgError\u001b[0m                               Traceback (most recent call last)",
      "Cell \u001b[0;32mIn[3], line 18\u001b[0m\n\u001b[1;32m     14\u001b[0m \u001b[38;5;28mprint\u001b[39m(\u001b[38;5;124m\"\u001b[39m\u001b[38;5;124mtest \u001b[39m\u001b[38;5;124m\"\u001b[39m,test)\n\u001b[1;32m     16\u001b[0m rhs \u001b[38;5;241m=\u001b[39m np\u001b[38;5;241m.\u001b[39marray([\u001b[38;5;241m1.0\u001b[39m, \u001b[38;5;241m2.0\u001b[39m])\n\u001b[0;32m---> 18\u001b[0m solution \u001b[38;5;241m=\u001b[39m \u001b[43msolve_with_cholesky\u001b[49m\u001b[43m(\u001b[49m\u001b[43mmatrix\u001b[49m\u001b[43m,\u001b[49m\u001b[43m \u001b[49m\u001b[43mrhs\u001b[49m\u001b[43m)\u001b[49m\n\u001b[1;32m     20\u001b[0m \u001b[38;5;28mprint\u001b[39m(\u001b[38;5;124m\"\u001b[39m\u001b[38;5;124msolution\u001b[39m\u001b[38;5;124m\"\u001b[39m,solution)\n\u001b[1;32m     21\u001b[0m test \u001b[38;5;241m=\u001b[39m rhs \u001b[38;5;241m-\u001b[39m np\u001b[38;5;241m.\u001b[39mdot(matrix,solution) \n",
      "File \u001b[0;32m~/Developer/KIT/2023-SS/Numerik/cholesky_decomposition.py:33\u001b[0m, in \u001b[0;36msolve_with_cholesky\u001b[0;34m(matrix, rhs)\u001b[0m\n\u001b[1;32m     32\u001b[0m \u001b[38;5;28;01mdef\u001b[39;00m \u001b[38;5;21msolve_with_cholesky\u001b[39m(matrix, rhs):\n\u001b[0;32m---> 33\u001b[0m     lower \u001b[38;5;241m=\u001b[39m \u001b[43mcholesky_decomposition\u001b[49m\u001b[43m(\u001b[49m\u001b[43mmatrix\u001b[49m\u001b[43m)\u001b[49m\n\u001b[1;32m     34\u001b[0m     y \u001b[38;5;241m=\u001b[39m forward_sub(lower, rhs)\n\u001b[1;32m     35\u001b[0m     \u001b[38;5;28;01mreturn\u001b[39;00m backward_sub(lower\u001b[38;5;241m.\u001b[39mtranspose(), y)\n",
      "File \u001b[0;32m~/Developer/KIT/2023-SS/Numerik/cholesky_decomposition.py:8\u001b[0m, in \u001b[0;36mcholesky_decomposition\u001b[0;34m(matrix)\u001b[0m\n\u001b[1;32m      6\u001b[0m lower \u001b[38;5;241m=\u001b[39m np\u001b[38;5;241m.\u001b[39mzeros(matrix\u001b[38;5;241m.\u001b[39mshape)\n\u001b[1;32m      7\u001b[0m \u001b[38;5;28;01mfor\u001b[39;00m n \u001b[38;5;129;01min\u001b[39;00m \u001b[38;5;28mrange\u001b[39m(\u001b[38;5;241m1\u001b[39m, n):\n\u001b[0;32m----> 8\u001b[0m     v \u001b[38;5;241m=\u001b[39m \u001b[43mlinalg\u001b[49m\u001b[38;5;241;43m.\u001b[39;49m\u001b[43msolve_triangular\u001b[49m\u001b[43m(\u001b[49m\u001b[43mlower\u001b[49m\u001b[43m[\u001b[49m\u001b[43m:\u001b[49m\u001b[43mn\u001b[49m\u001b[43m,\u001b[49m\u001b[43m \u001b[49m\u001b[43m:\u001b[49m\u001b[43mn\u001b[49m\u001b[43m]\u001b[49m\u001b[43m,\u001b[49m\u001b[43m \u001b[49m\u001b[43mmatrix\u001b[49m\u001b[43m[\u001b[49m\u001b[43m:\u001b[49m\u001b[43mn\u001b[49m\u001b[43m,\u001b[49m\u001b[43m \u001b[49m\u001b[43mn\u001b[49m\u001b[43m]\u001b[49m\u001b[43m,\u001b[49m\u001b[43m \u001b[49m\u001b[43mlower\u001b[49m\u001b[38;5;241;43m=\u001b[39;49m\u001b[38;5;28;43;01mTrue\u001b[39;49;00m\u001b[43m)\u001b[49m\n\u001b[1;32m      9\u001b[0m     lower[n, n] \u001b[38;5;241m=\u001b[39m np\u001b[38;5;241m.\u001b[39msqrt(matrix[n, n] \u001b[38;5;241m-\u001b[39m np\u001b[38;5;241m.\u001b[39mdot(v, v))\n\u001b[1;32m     10\u001b[0m \u001b[38;5;28;01mreturn\u001b[39;00m lower\n",
      "File \u001b[0;32m~/Developer/KIT/2023-SS/Numerik/.venv/lib/python3.11/site-packages/scipy/linalg/_basic.py:357\u001b[0m, in \u001b[0;36msolve_triangular\u001b[0;34m(a, b, trans, lower, unit_diagonal, overwrite_b, check_finite)\u001b[0m\n\u001b[1;32m    355\u001b[0m     \u001b[38;5;28;01mreturn\u001b[39;00m x\n\u001b[1;32m    356\u001b[0m \u001b[38;5;28;01mif\u001b[39;00m info \u001b[38;5;241m>\u001b[39m \u001b[38;5;241m0\u001b[39m:\n\u001b[0;32m--> 357\u001b[0m     \u001b[38;5;28;01mraise\u001b[39;00m LinAlgError(\u001b[38;5;124m\"\u001b[39m\u001b[38;5;124msingular matrix: resolution failed at diagonal \u001b[39m\u001b[38;5;132;01m%d\u001b[39;00m\u001b[38;5;124m\"\u001b[39m \u001b[38;5;241m%\u001b[39m\n\u001b[1;32m    358\u001b[0m                       (info\u001b[38;5;241m-\u001b[39m\u001b[38;5;241m1\u001b[39m))\n\u001b[1;32m    359\u001b[0m \u001b[38;5;28;01mraise\u001b[39;00m \u001b[38;5;167;01mValueError\u001b[39;00m(\u001b[38;5;124m'\u001b[39m\u001b[38;5;124millegal value in \u001b[39m\u001b[38;5;132;01m%d\u001b[39;00m\u001b[38;5;124mth argument of internal trtrs\u001b[39m\u001b[38;5;124m'\u001b[39m \u001b[38;5;241m%\u001b[39m\n\u001b[1;32m    360\u001b[0m                  (\u001b[38;5;241m-\u001b[39minfo))\n",
      "\u001b[0;31mLinAlgError\u001b[0m: singular matrix: resolution failed at diagonal 0"
     ]
    }
   ],
   "source": [
    "import numpy as np\n",
    "\n",
    "from lu_decomposition import solve_with_lu\n",
    "from cholesky_decomposition import solve_with_cholesky\n",
    "\n",
    "matrix = np.array([[2.0, 1.0],\n",
    "                   [1.0, 4.0]])\n",
    "rhs = np.array([1.0, 2.0]) \n",
    "\n",
    "solution = solve_with_lu(matrix, rhs)\n",
    "\n",
    "print(\"solution\",solution)\n",
    "test = rhs - np.dot(matrix,solution) \n",
    "print(\"test \",test)\n",
    "\n",
    "rhs = np.array([1.0, 2.0])\n",
    "\n",
    "solution = solve_with_cholesky(matrix, rhs)\n",
    "\n",
    "print(\"solution\",solution)\n",
    "test = rhs - np.dot(matrix,solution) \n",
    "print(\"test \",test)"
   ]
  }
 ],
 "metadata": {
  "kernelspec": {
   "display_name": ".venv",
   "language": "python",
   "name": "python3"
  },
  "language_info": {
   "codemirror_mode": {
    "name": "ipython",
    "version": 3
   },
   "file_extension": ".py",
   "mimetype": "text/x-python",
   "name": "python",
   "nbconvert_exporter": "python",
   "pygments_lexer": "ipython3",
   "version": "3.11.7"
  }
 },
 "nbformat": 4,
 "nbformat_minor": 2
}
